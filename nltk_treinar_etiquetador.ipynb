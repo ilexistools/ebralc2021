{
  "nbformat": 4,
  "nbformat_minor": 0,
  "metadata": {
    "colab": {
      "name": "nltk_treinar_etiquetador.ipynb",
      "provenance": [],
      "collapsed_sections": [],
      "authorship_tag": "ABX9TyN+f6FANWRTHmJCIk3teTE6",
      "include_colab_link": true
    },
    "kernelspec": {
      "name": "python3",
      "display_name": "Python 3"
    },
    "language_info": {
      "name": "python"
    }
  },
  "cells": [
    {
      "cell_type": "markdown",
      "metadata": {
        "id": "view-in-github",
        "colab_type": "text"
      },
      "source": [
        "<a href=\"https://colab.research.google.com/github/ilexistools/ebralc2021/blob/main/nltk_treinar_etiquetador.ipynb\" target=\"_parent\"><img src=\"https://colab.research.google.com/assets/colab-badge.svg\" alt=\"Open In Colab\"/></a>"
      ]
    },
    {
      "cell_type": "code",
      "metadata": {
        "id": "Q5I3Kh0mYdeb"
      },
      "source": [
        ""
      ],
      "execution_count": null,
      "outputs": []
    },
    {
      "cell_type": "markdown",
      "metadata": {
        "id": "rGPeTRPPYqF4"
      },
      "source": [
        "# Treinar um etiquetador morfossintático\n",
        "\n",
        "Para realizar a etiquetagem morfossintática de textos, é preciso obter um etiquetador. O NLTK possui diversas opções para a criação de classificadores e etiquetadores de palavras: DefaultTagger, RegexpTagger, UnigramTagger, BigramTagger, TrigramTagger, BrillTagger, além de outros classificadores.\n",
        "\n",
        "A criação de etiquetadores requer dados de treinamento, textos previamente etiquetados, no formato de sentenças etiquetadas, especificamente em listas de tuplas para o NLTK. A partir dos dados e algoritmos de treinamento, cria-se um objeto (etiquetador) que pode ser armazenado para usos futuros, uma vez que o treinamento leva um tempo considerável."
      ]
    },
    {
      "cell_type": "markdown",
      "metadata": {
        "id": "4-d4_d3WY3ez"
      },
      "source": [
        "# Recursos\n",
        "\n",
        "Para realizar o teste de utilização, precisamos carregar o corpus mc-morpho e o tokenizador 'punkt' da biblioteca do nltk:\n",
        "\n"
      ]
    },
    {
      "cell_type": "code",
      "metadata": {
        "colab": {
          "base_uri": "https://localhost:8080/"
        },
        "id": "KrICJQkXZ871",
        "outputId": "2978287a-d071-4537-e8a2-520d135e3c5b"
      },
      "source": [
        "import nltk\n",
        "\n",
        "nltk.download('mac_morpho')\n",
        "nltk.download('punkt')"
      ],
      "execution_count": 6,
      "outputs": [
        {
          "output_type": "stream",
          "name": "stdout",
          "text": [
            "[nltk_data] Downloading package mac_morpho to /root/nltk_data...\n",
            "[nltk_data]   Package mac_morpho is already up-to-date!\n",
            "[nltk_data] Downloading package punkt to /root/nltk_data...\n",
            "[nltk_data]   Unzipping tokenizers/punkt.zip.\n"
          ]
        },
        {
          "output_type": "execute_result",
          "data": {
            "text/plain": [
              "True"
            ]
          },
          "metadata": {},
          "execution_count": 6
        }
      ]
    },
    {
      "cell_type": "code",
      "metadata": {
        "id": "xtuOboygZ1dv"
      },
      "source": [
        ""
      ],
      "execution_count": null,
      "outputs": []
    },
    {
      "cell_type": "code",
      "metadata": {
        "colab": {
          "base_uri": "https://localhost:8080/"
        },
        "id": "nxf8_GqiZG6Y",
        "outputId": "79b9bec0-3da3-42f2-b043-51920bb78fa6"
      },
      "source": [
        "import nltk\n",
        "import pickle\n",
        "from nltk.corpus import mac_morpho\n",
        "\n",
        "# prepara dados de treinamento e teste\n",
        "sents = mac_morpho.tagged_sents()\n",
        "trein = sents[0:30000]\n",
        "teste = sents[13000:]\n",
        "\n",
        "# treina um etiquetador sequencial\n",
        "etq1 = nltk.DefaultTagger('N')\n",
        "etq2 = nltk.UnigramTagger(trein,backoff=etq1)\n",
        "etq3 = nltk.BigramTagger(trein,backoff=etq2)\n",
        "\n",
        "# imprime a acurácia dos etiquetadores\n",
        "print('DefaultTagger', etq1.evaluate(teste))\n",
        "print('UnigramTagger', etq2.evaluate(teste))\n",
        "print('BigramTagger', etq3.evaluate(teste))\n",
        "\n",
        "# armazena o etiquetador treinado\n",
        "with open('etq.pickle','wb') as fh:\n",
        "  pickle.dump(etq3,fh)"
      ],
      "execution_count": 4,
      "outputs": [
        {
          "output_type": "stream",
          "name": "stdout",
          "text": [
            "DefaultTagger 0.20087708474599295\n",
            "UnigramTagger 0.8237940367746194\n",
            "BigramTagger 0.842816406510894\n"
          ]
        }
      ]
    },
    {
      "cell_type": "markdown",
      "metadata": {
        "id": "K4b0OdDjbRu1"
      },
      "source": [
        "No exemplo, carregamos os dados etiquetados para treinamento e teste do etiquetador. Separamos uma quantidade maior de sentenças para treino (70%) e outra menor para teste (30%).\n",
        "\n",
        "Em seguida, iniciamos o processo de treinamento de um etiquetador sequencial a partir de três modelos diferentes combinados. O etiquetador 'DefaultTagger' atribui uma etiqueta padrão ('N') para todas as palavras. O etiquetador 'UnigramTagger', treinado com as sentenças, atribui a etiqueta mais provável para a palavra a partir de um dicionário criado internamente. O etiquetador 'BigramTagger', também treinado com as sentenças etiquetadas, atribui a etiqueta mais provável para a palavra com base na etiqueta anterior (hipótese de Markov). A combinação dos etiquetadores é feita sequencialmente por meio do argumento 'backoff''.\n",
        "\n",
        "Tendo realizado o treinamento do etiquetador, avaliamos a precisão de cada etapa por meio da função ‘evaluate()’, passando como argumento a variável ‘teste’, que armazena parte das sentenças etiquetadas do corpus MacMorpho. No processo, obtemos a impressão do desempenho de cada um dos etiquetadores em separado. O etiquetador final, resultado da combinação de todos, obtém uma precisão de 84% com os dados de teste.\n",
        "\n",
        "Por fim, armazenamos o etiquetador treinado para usos posteriores por meio da função ‘dump’, do módulo ‘pickle’. \n",
        "\n",
        "Para verificar a funcionalidade do etiquetador, realizamos o seguinte teste:"
      ]
    },
    {
      "cell_type": "code",
      "metadata": {
        "colab": {
          "base_uri": "https://localhost:8080/"
        },
        "id": "Y6261bFnamP0",
        "outputId": "c9e8badd-0f0a-4326-f034-d17657facf18"
      },
      "source": [
        "import nltk\n",
        "import pickle\n",
        "\n",
        "# carrega o etiquetador treinado\n",
        "with open('etq.pickle','rb') as fh:\n",
        "  etiquetador = pickle.load(fh)\n",
        "\n",
        "# armazena um texto a ser etiquetado como teste\n",
        "texto = 'Estamos realizando um teste agora.'\n",
        "\n",
        "# itemiza o texto\n",
        "itens = nltk.word_tokenize(texto,language='portuguese')\n",
        "\n",
        "# etiqueta os itens\n",
        "itens_etiquetados = etiquetador.tag(itens)\n",
        "\n",
        "# imprime o resultado\n",
        "print(itens_etiquetados)\n"
      ],
      "execution_count": 7,
      "outputs": [
        {
          "output_type": "stream",
          "name": "stdout",
          "text": [
            "[('Estamos', 'V'), ('realizando', 'V'), ('um', 'ART'), ('teste', 'N'), ('agora', 'ADV'), ('.', '.')]\n"
          ]
        }
      ]
    }
  ]
}