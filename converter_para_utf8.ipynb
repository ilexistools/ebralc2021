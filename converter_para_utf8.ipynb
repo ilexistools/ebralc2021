{
  "nbformat": 4,
  "nbformat_minor": 0,
  "metadata": {
    "colab": {
      "name": "converter_para_utf8.ipynb",
      "provenance": [],
      "collapsed_sections": [],
      "authorship_tag": "ABX9TyNdVQ8nSQX+p2YEd9d8+DBa",
      "include_colab_link": true
    },
    "kernelspec": {
      "name": "python3",
      "display_name": "Python 3"
    },
    "language_info": {
      "name": "python"
    }
  },
  "cells": [
    {
      "cell_type": "markdown",
      "metadata": {
        "id": "view-in-github",
        "colab_type": "text"
      },
      "source": [
        "<a href=\"https://colab.research.google.com/github/ilexistools/ebralc2021/blob/main/converter_para_utf8.ipynb\" target=\"_parent\"><img src=\"https://colab.research.google.com/assets/colab-badge.svg\" alt=\"Open In Colab\"/></a>"
      ]
    },
    {
      "cell_type": "markdown",
      "metadata": {
        "id": "2IHscSEm67L6"
      },
      "source": [
        "# Definir a codifição de caracteres para UTF-8\n",
        "\n",
        "Em arquivos de texto, para converter uma determinada codificação conhecida para outra (utf-8), podemos utilizar a seguinte função:"
      ]
    },
    {
      "cell_type": "code",
      "metadata": {
        "id": "BNc-6kbX6ut-"
      },
      "source": [
        "import codecs\n",
        "def converter_utf8(arquivo_fonte,codificacao,arquivo_alvo):\n",
        "  with codecs.open(arquivo_fonte,'r',codificacao) as fonte:\n",
        "    with codecs.open(arquivo_alvo, 'w','utf-8') as alvo:\n",
        "      while True:\n",
        "        conteudo = fonte.read()\n",
        "        if not conteudo:\n",
        "          break\n",
        "        alvo.write(conteudo)"
      ],
      "execution_count": 10,
      "outputs": []
    },
    {
      "cell_type": "markdown",
      "metadata": {
        "id": "pKNNqyen8jfh"
      },
      "source": [
        "# Recursos\n",
        "Para realizar o teste de utilização básica, precisamos carregar o arquivo:"
      ]
    },
    {
      "cell_type": "code",
      "metadata": {
        "id": "1dRbbhJP8UUA"
      },
      "source": [
        "import requests \n",
        "\n",
        "url = 'https://github.com/ilexistools/ebralc2021/raw/main/recursos/texto_latin1.txt'\n",
        "response = requests.get(url)\n",
        "with open('texto_latin1.txt', 'wb') as f:\n",
        "    f.write(response.content)"
      ],
      "execution_count": 11,
      "outputs": []
    },
    {
      "cell_type": "markdown",
      "metadata": {
        "id": "-9Qgi1Ho8usg"
      },
      "source": [
        "# Utilização\n",
        "\n",
        "Para testar a função, vamos converter um arquivo em latin-1 para utf-8 conforme o seguinte código:"
      ]
    },
    {
      "cell_type": "code",
      "metadata": {
        "id": "lNvAW4ar80q4"
      },
      "source": [
        "converter_utf8('texto_latin1.txt','latin-1','texto_utf8.txt')"
      ],
      "execution_count": 12,
      "outputs": []
    }
  ]
}