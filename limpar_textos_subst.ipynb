{
  "nbformat": 4,
  "nbformat_minor": 0,
  "metadata": {
    "colab": {
      "name": "limpar_textos_subst.ipynb",
      "provenance": [],
      "collapsed_sections": [],
      "authorship_tag": "ABX9TyNx3x0sTiN3jhO5H3E4Wv7g",
      "include_colab_link": true
    },
    "kernelspec": {
      "name": "python3",
      "display_name": "Python 3"
    },
    "language_info": {
      "name": "python"
    }
  },
  "cells": [
    {
      "cell_type": "markdown",
      "metadata": {
        "id": "view-in-github",
        "colab_type": "text"
      },
      "source": [
        "<a href=\"https://colab.research.google.com/github/ilexistools/ebralc2021/blob/main/limpar_textos_subst.ipynb\" target=\"_parent\"><img src=\"https://colab.research.google.com/assets/colab-badge.svg\" alt=\"Open In Colab\"/></a>"
      ]
    },
    {
      "cell_type": "code",
      "metadata": {
        "id": "BgzSLQfdCkeo"
      },
      "source": [
        ""
      ],
      "execution_count": null,
      "outputs": []
    },
    {
      "cell_type": "markdown",
      "metadata": {
        "id": "XMcF7YjkCpyd"
      },
      "source": [
        "# Limpar textos por meio de substituições\n",
        "Mutias vezes, os textos que coletamos podem conter caracteres estranhos e itens desnecessários para o processamento ou a análise. É possível também que queiramos que os textos estejam em determinado formato para o processamento.\n",
        "\n",
        "Para tanto, podemos criar um conjunto de regras de substituição para limpar ou normalizar os textos de acordo com nossa necessidade.\n",
        "\n"
      ]
    },
    {
      "cell_type": "markdown",
      "metadata": {
        "id": "ax3O1IUZC1Bu"
      },
      "source": [
        "# Recursos\n",
        "Para realizar o teste de utilização básica, precisamos carregar o arquivo:"
      ]
    },
    {
      "cell_type": "code",
      "metadata": {
        "id": "NsVMlrjbC50U"
      },
      "source": [
        "import requests \n",
        "\n",
        "url = 'https://github.com/ilexistools/ebralc2021/raw/main/recursos/texto_twitter.txt'\n",
        "response = requests.get(url)\n",
        "with open('texto_twitter.txt', 'wb') as f:\n",
        "    f.write(response.content)"
      ],
      "execution_count": 2,
      "outputs": []
    },
    {
      "cell_type": "markdown",
      "metadata": {
        "id": "WNpcRaVbDHiM"
      },
      "source": [
        "Desse modo, para demonstrar as possibilidades da abordagem, vamos utilizar o seguinte trecho de texto com comunicações do Twitter:"
      ]
    },
    {
      "cell_type": "code",
      "metadata": {
        "colab": {
          "base_uri": "https://localhost:8080/"
        },
        "id": "MnT6ndbmDINN",
        "outputId": "993787c1-de62-4c09-cf4e-21758ce32b3f"
      },
      "source": [
        "with open('texto_twitter.txt','r', encoding='utf-8') as fh:\n",
        "  texto = fh.read()\n",
        "  print(texto)"
      ],
      "execution_count": 6,
      "outputs": [
        {
          "output_type": "stream",
          "name": "stdout",
          "text": [
            "13 Cláudia não sabe a cor dos capacetes das Nações Unidas mas sabe outras coisas. :p TVI Reality #loveontoptvi https://t.co/6Y4PCmI0k6\n",
            "...: @adFabi @bibliotecarioSP @mirellyGmont @LucasGranello @lucasedgar22 Eleição nn é um jogo, se um perder todos perdem. ***\n",
            "...: E o *canditato* q vc vai votar pode influenciar a vida de muitas pessoas, inclusive a sua. :))\n",
            "...: Mas pq vc votaria nele, de vdd?\n"
          ]
        }
      ]
    },
    {
      "cell_type": "markdown",
      "metadata": {
        "id": "5bkDJtWGDbTc"
      },
      "source": [
        "# Utilização\n",
        "Neste exemplo, queremos retirar todos os caracteres estranhos para fazer a contagem das palavras do texto."
      ]
    },
    {
      "cell_type": "code",
      "metadata": {
        "colab": {
          "base_uri": "https://localhost:8080/"
        },
        "id": "eQv1d1qFDgBd",
        "outputId": "d3790855-1c65-4dfe-83f6-afb52a8cb6a9"
      },
      "source": [
        "import re\n",
        "from string import punctuation\n",
        "\n",
        "regras = []\n",
        "regras.append((r'https?://\\S+','')) # remove URL\n",
        "regras.append((r'@\\w+','')) # remove nomes de usuários\n",
        "regras.append((r'#\\w+','')) # remove hashtags\n",
        "regras.append((r':\\w+','')) # remove códigos de emoticons\n",
        "regras.append((r'[' + punctuation + ']','')) # remove pontuação\n",
        "regras.append((r'^[0-9]+','')) # remove numeração no ínicio\n",
        "regras.append((r'\\n+',' ')) # substitui o carectere de nova linha por espaço\n",
        "regras.append((r' +',' ')) # remove espaços duplos\n",
        "# aplica as regras\n",
        "for p, s in regras:\n",
        "  texto = re.sub(p, s, texto)\n",
        "\n",
        "texto = texto.lower() # converte para minúsculas\n",
        "print(texto)"
      ],
      "execution_count": 7,
      "outputs": [
        {
          "output_type": "stream",
          "name": "stdout",
          "text": [
            " cláudia não sabe a cor dos capacetes das nações unidas mas sabe outras coisas tvi reality eleição nn é um jogo se um perder todos perdem e o canditato q vc vai votar pode influenciar a vida de muitas pessoas inclusive a sua mas pq vc votaria nele de vdd\n"
          ]
        }
      ]
    },
    {
      "cell_type": "markdown",
      "metadata": {
        "id": "Z-k90MjAETn0"
      },
      "source": [
        "No código, utilizamos o módulo ‘re’ para criar um conjunto de expressões regulares que realizam as substituições dos itens desnecessários para o processamento. Primeiro, as regras são criadas e armazenadas em uma lista. Em seguida, são aplicadas sequencialmente em um comando de laço. Por último, convertermos o texto resultante para minúsculas e o imprimimos na tela.\n",
        "\n",
        "Para corrigir erros de ortografia ou traduzir itens da linguagem da Internet (‘internetês’), podemos utilizar um dicionário para realizar as substituições:"
      ]
    },
    {
      "cell_type": "code",
      "metadata": {
        "colab": {
          "base_uri": "https://localhost:8080/"
        },
        "id": "efaS7llzEXYk",
        "outputId": "3739e390-2d5b-4362-e842-fb861245cfba"
      },
      "source": [
        "dicionario = {'nn': 'não',\n",
        "              'q' : 'que',\n",
        "              'vc' : 'você',\n",
        "              'pq' : 'porque',\n",
        "              'vdd' : 'verdade'}\n",
        "s = []\n",
        "for palavra in texto.split():\n",
        "  if palavra in dicionario:\n",
        "    s.append(dicionario[palavra])\n",
        "  else:\n",
        "    s.append(palavra)\n",
        "\n",
        "  texto = ' '.join(s)\n",
        "print(texto)"
      ],
      "execution_count": 8,
      "outputs": [
        {
          "output_type": "stream",
          "name": "stdout",
          "text": [
            "cláudia não sabe a cor dos capacetes das nações unidas mas sabe outras coisas tvi reality eleição não é um jogo se um perder todos perdem e o canditato que você vai votar pode influenciar a vida de muitas pessoas inclusive a sua mas porque você votaria nele de verdade\n"
          ]
        }
      ]
    }
  ]
}