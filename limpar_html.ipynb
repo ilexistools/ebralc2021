{
  "nbformat": 4,
  "nbformat_minor": 0,
  "metadata": {
    "colab": {
      "name": "limpar_html.ipynb",
      "provenance": [],
      "collapsed_sections": [],
      "authorship_tag": "ABX9TyMXKxxVeWV570KbNRquRw1v",
      "include_colab_link": true
    },
    "kernelspec": {
      "name": "python3",
      "display_name": "Python 3"
    },
    "language_info": {
      "name": "python"
    }
  },
  "cells": [
    {
      "cell_type": "markdown",
      "metadata": {
        "id": "view-in-github",
        "colab_type": "text"
      },
      "source": [
        "<a href=\"https://colab.research.google.com/github/ilexistools/ebralc2021/blob/main/limpar_html.ipynb\" target=\"_parent\"><img src=\"https://colab.research.google.com/assets/colab-badge.svg\" alt=\"Open In Colab\"/></a>"
      ]
    },
    {
      "cell_type": "code",
      "metadata": {
        "id": "XXZlkyOP98n2"
      },
      "source": [
        ""
      ],
      "execution_count": null,
      "outputs": []
    },
    {
      "cell_type": "markdown",
      "metadata": {
        "id": "IT0UznfW-Acf"
      },
      "source": [
        "# Remover etiquetas HTML de textos\n",
        "\n",
        "A linguagem Python possui o módulo ‘urllib’, que fornece acesso a páginas da Internet. Com o ‘urllib’, é possível acessar páginas de conteúdo interessante para pesquisa linguística, tal como dicionários online, páginas de buscadores, páginas de conteúdo da Wikipédia etc.\n",
        "\n",
        "O código a seguir apresenta um exemplo de uso do módulo para baixar uma página da Internet e extrair seu conteúdo sem os códigos html:\n",
        "\n",
        "\n",
        "\n"
      ]
    },
    {
      "cell_type": "code",
      "metadata": {
        "colab": {
          "base_uri": "https://localhost:8080/"
        },
        "id": "R-TYu1Y--TZB",
        "outputId": "54b01eb1-b088-4a11-efbe-b9d7bb0b54e4"
      },
      "source": [
        "from urllib.request import urlopen\n",
        "from bs4 import BeautifulSoup\n",
        "url = 'https://pt.wikipedia.org/wiki/Python'\n",
        "page = urlopen(url)\n",
        "html = BeautifulSoup(page.read(),'html.parser')\n",
        "s = html.get_text('\\n',strip=True)\n",
        "print(s.split('\\n')[0])\n"
      ],
      "execution_count": 1,
      "outputs": [
        {
          "output_type": "stream",
          "name": "stdout",
          "text": [
            "Python – Wikipédia, a enciclopédia livre\n"
          ]
        }
      ]
    },
    {
      "cell_type": "markdown",
      "metadata": {
        "id": "TvhT1-XT-4VB"
      },
      "source": [
        "Função para reutilização do código:"
      ]
    },
    {
      "cell_type": "code",
      "metadata": {
        "id": "IAFPIbEb--gI"
      },
      "source": [
        "def clean_html(html):\n",
        "  html = BeautifulSoup(html,'html.parser')\n",
        "  s = html.get_text('\\n',strip=True)\n",
        "  return s "
      ],
      "execution_count": null,
      "outputs": []
    }
  ]
}