{
  "nbformat": 4,
  "nbformat_minor": 0,
  "metadata": {
    "colab": {
      "name": "spacy_intro.ipynb",
      "provenance": [],
      "authorship_tag": "ABX9TyOBzsygKrvRcoDaZUQrDg1J",
      "include_colab_link": true
    },
    "kernelspec": {
      "name": "python3",
      "display_name": "Python 3"
    },
    "language_info": {
      "name": "python"
    }
  },
  "cells": [
    {
      "cell_type": "markdown",
      "metadata": {
        "id": "view-in-github",
        "colab_type": "text"
      },
      "source": [
        "<a href=\"https://colab.research.google.com/github/ilexistools/ebralc2021/blob/main/spacy_intro.ipynb\" target=\"_parent\"><img src=\"https://colab.research.google.com/assets/colab-badge.svg\" alt=\"Open In Colab\"/></a>"
      ]
    },
    {
      "cell_type": "markdown",
      "metadata": {
        "id": "pwIxU_qjh9wk"
      },
      "source": [
        "# spaCy\n",
        "\n",
        "O spaCy é uma biblioteca gratuita para o Processamento de Língua Natural de alta produção em Python. Diferente do NLTK, a prioridade é o desempenho em projetos e necessidades do mundo real, e não o estado da arte de abordagens e técnicas acadêmicas.\n",
        "\n",
        "O spaCy possui recursos para uma série de tarefas para o processamento linguístico: tokenização, lematização, etiquetagem morfossintática, dependências, reconhecimento de entidades nomeadas entre outros recursos."
      ]
    },
    {
      "cell_type": "code",
      "metadata": {
        "id": "l5mgHZjqkjbj"
      },
      "source": [
        "# para versão atualizada\n",
        "#!pip install --upgrade spacy"
      ],
      "execution_count": null,
      "outputs": []
    },
    {
      "cell_type": "markdown",
      "metadata": {
        "id": "kfZpUGATh2CT"
      },
      "source": [
        "## Baixar modelos de idioma"
      ]
    },
    {
      "cell_type": "code",
      "metadata": {
        "colab": {
          "base_uri": "https://localhost:8080/"
        },
        "id": "ywMHGy2beF0T",
        "outputId": "50bed950-279d-474f-d1b2-f9e26bc26aca"
      },
      "source": [
        "import spacy \n",
        "import spacy.cli\n",
        "spacy.cli.download(\"pt_core_news_sm\")\n"
      ],
      "execution_count": 6,
      "outputs": [
        {
          "output_type": "stream",
          "name": "stdout",
          "text": [
            "\u001b[38;5;2m✔ Download and installation successful\u001b[0m\n",
            "You can now load the package via spacy.load('pt_core_news_sm')\n"
          ]
        }
      ]
    },
    {
      "cell_type": "markdown",
      "metadata": {
        "id": "7-8ZXC7diIAU"
      },
      "source": [
        "## Carregar modelos e processar textos\n",
        "Usamos a função ‘load()’ para carregar modelos:"
      ]
    },
    {
      "cell_type": "code",
      "metadata": {
        "id": "Y_xoKLdTiN0y"
      },
      "source": [
        "import spacy\n",
        "nlp = spacy.load('pt_core_news_sm')"
      ],
      "execution_count": 7,
      "outputs": []
    },
    {
      "cell_type": "markdown",
      "metadata": {
        "id": "OEvRKebLiVuD"
      },
      "source": [
        "Após carregar o modelo, podemos realizar o processamento de textos:"
      ]
    },
    {
      "cell_type": "code",
      "metadata": {
        "id": "1CRNo2LUiWNr"
      },
      "source": [
        "texto = \"\"\"Barack Obama foi o primeiro negro a ser eleito presidente dos Estados Unidos. Em 2008, ele derrotou o candidato do Partido Republicano, John McCain, e foi eleito o 44° presidente do país. Em 2012, Obama foi eleito para um segundo mandato.\"\"\"\n",
        "doc = nlp(texto)"
      ],
      "execution_count": 8,
      "outputs": []
    },
    {
      "cell_type": "markdown",
      "metadata": {
        "id": "7a1ItmKeikKx"
      },
      "source": [
        "## Itemização de sentenças"
      ]
    },
    {
      "cell_type": "code",
      "metadata": {
        "colab": {
          "base_uri": "https://localhost:8080/"
        },
        "id": "xddYQMd2ht5D",
        "outputId": "7d195d7d-0de4-47a7-c4fe-3342343b4007"
      },
      "source": [
        "for sent in doc.sents:\n",
        "  print(sent.text)"
      ],
      "execution_count": 9,
      "outputs": [
        {
          "output_type": "stream",
          "name": "stdout",
          "text": [
            "Barack Obama foi o primeiro negro a ser eleito presidente dos Estados Unidos.\n",
            "Em 2008, ele derrotou o candidato do Partido Republicano, John McCain, e foi eleito o 44° presidente do país.\n",
            "Em 2012, Obama foi eleito para um segundo mandato.\n"
          ]
        }
      ]
    },
    {
      "cell_type": "markdown",
      "metadata": {
        "id": "GW8u8PQWiucD"
      },
      "source": [
        "Para retornar sentenças com palavras itemizadas:"
      ]
    },
    {
      "cell_type": "code",
      "metadata": {
        "colab": {
          "base_uri": "https://localhost:8080/"
        },
        "id": "oGxkhN-8iu-K",
        "outputId": "4441c6d9-872d-4f5a-a078-d29458c3ad74"
      },
      "source": [
        "for sent in doc.sents:\n",
        "  print(sent.lemma_)"
      ],
      "execution_count": 10,
      "outputs": [
        {
          "output_type": "stream",
          "name": "stdout",
          "text": [
            "Barack Obama ser o primeiro negro o ser eleito presidente dos Estados Unidos.\n",
            "Em 2008, ele derrotar o candidatar do Partido Republicano, John McCain, e ser eleito o 44° presidente do país.\n",
            "Em 2012, Obama ser eleito parir um segundar mandatar.\n"
          ]
        }
      ]
    },
    {
      "cell_type": "markdown",
      "metadata": {
        "id": "Mxj3_bZBizhD"
      },
      "source": [
        "## Itemização de palavras\n",
        "Para retornar as sentenças itemizadas:"
      ]
    },
    {
      "cell_type": "code",
      "metadata": {
        "colab": {
          "base_uri": "https://localhost:8080/"
        },
        "id": "RePdOFIbi6Uz",
        "outputId": "9c6f5446-ecc7-431d-d358-fa0f6f3641d3"
      },
      "source": [
        "for sent in doc.sents:\n",
        "  print([token.text for token in sent])"
      ],
      "execution_count": 11,
      "outputs": [
        {
          "output_type": "stream",
          "name": "stdout",
          "text": [
            "['Barack', 'Obama', 'foi', 'o', 'primeiro', 'negro', 'a', 'ser', 'eleito', 'presidente', 'dos', 'Estados', 'Unidos', '.']\n",
            "['Em', '2008', ',', 'ele', 'derrotou', 'o', 'candidato', 'do', 'Partido', 'Republicano', ',', 'John', 'McCain', ',', 'e', 'foi', 'eleito', 'o', '44', '°', 'presidente', 'do', 'país', '.']\n",
            "['Em', '2012', ',', 'Obama', 'foi', 'eleito', 'para', 'um', 'segundo', 'mandato', '.']\n"
          ]
        }
      ]
    },
    {
      "cell_type": "markdown",
      "metadata": {
        "id": "1pZGaHXBjBDz"
      },
      "source": [
        "## Etiquetagem de palavras\n",
        "Para retornar as sentenças etiquetadas:"
      ]
    },
    {
      "cell_type": "code",
      "metadata": {
        "colab": {
          "base_uri": "https://localhost:8080/"
        },
        "id": "KIQgNuzzjF1q",
        "outputId": "e587f2f2-396b-426d-f047-560863e6feca"
      },
      "source": [
        "for sent in doc.sents:\n",
        "  print([(token.text,token.pos_) for token in sent])"
      ],
      "execution_count": 12,
      "outputs": [
        {
          "output_type": "stream",
          "name": "stdout",
          "text": [
            "[('Barack', 'PROPN'), ('Obama', 'PROPN'), ('foi', 'AUX'), ('o', 'DET'), ('primeiro', 'ADJ'), ('negro', 'ADJ'), ('a', 'SCONJ'), ('ser', 'AUX'), ('eleito', 'VERB'), ('presidente', 'NOUN'), ('dos', 'ADP'), ('Estados', 'PROPN'), ('Unidos', 'PROPN'), ('.', 'PUNCT')]\n",
            "[('Em', 'ADP'), ('2008', 'NUM'), (',', 'PUNCT'), ('ele', 'PRON'), ('derrotou', 'VERB'), ('o', 'DET'), ('candidato', 'NOUN'), ('do', 'ADP'), ('Partido', 'PROPN'), ('Republicano', 'PROPN'), (',', 'PUNCT'), ('John', 'PROPN'), ('McCain', 'PROPN'), (',', 'PUNCT'), ('e', 'CCONJ'), ('foi', 'AUX'), ('eleito', 'VERB'), ('o', 'DET'), ('44', 'NUM'), ('°', 'SYM'), ('presidente', 'NOUN'), ('do', 'ADP'), ('país', 'NOUN'), ('.', 'PUNCT')]\n",
            "[('Em', 'ADP'), ('2012', 'NUM'), (',', 'PUNCT'), ('Obama', 'PROPN'), ('foi', 'AUX'), ('eleito', 'VERB'), ('para', 'ADP'), ('um', 'NUM'), ('segundo', 'ADJ'), ('mandato', 'NOUN'), ('.', 'PUNCT')]\n"
          ]
        }
      ]
    },
    {
      "cell_type": "markdown",
      "metadata": {
        "id": "QzcdlUMHjOmc"
      },
      "source": [
        "Outra forma de retornar as sentenças etiquetadas é utilizar ‘tag_’:"
      ]
    },
    {
      "cell_type": "code",
      "metadata": {
        "colab": {
          "base_uri": "https://localhost:8080/"
        },
        "id": "OfdHJ1xIjPAD",
        "outputId": "ccd3aae2-abbb-4d78-f5aa-9f6e7f26daae"
      },
      "source": [
        "for sent in doc.sents:\n",
        "  print([(token.text,token.tag_) for token in sent])"
      ],
      "execution_count": 13,
      "outputs": [
        {
          "output_type": "stream",
          "name": "stdout",
          "text": [
            "[('Barack', 'PROPN'), ('Obama', 'PROPN'), ('foi', 'AUX'), ('o', 'DET'), ('primeiro', 'ADJ'), ('negro', 'ADJ'), ('a', 'SCONJ'), ('ser', 'AUX'), ('eleito', 'VERB'), ('presidente', 'NOUN'), ('dos', 'ADP'), ('Estados', 'PROPN'), ('Unidos', 'PROPN'), ('.', 'PUNCT')]\n",
            "[('Em', 'ADP'), ('2008', 'NUM'), (',', 'PUNCT'), ('ele', 'PRON'), ('derrotou', 'VERB'), ('o', 'DET'), ('candidato', 'NOUN'), ('do', 'ADP'), ('Partido', 'PROPN'), ('Republicano', 'PROPN'), (',', 'PUNCT'), ('John', 'PROPN'), ('McCain', 'PROPN'), (',', 'PUNCT'), ('e', 'CCONJ'), ('foi', 'AUX'), ('eleito', 'VERB'), ('o', 'DET'), ('44', 'NUM'), ('°', 'SYM'), ('presidente', 'NOUN'), ('do', 'ADP'), ('país', 'NOUN'), ('.', 'PUNCT')]\n",
            "[('Em', 'ADP'), ('2012', 'NUM'), (',', 'PUNCT'), ('Obama', 'PROPN'), ('foi', 'AUX'), ('eleito', 'VERB'), ('para', 'ADP'), ('um', 'NUM'), ('segundo', 'ADJ'), ('mandato', 'NOUN'), ('.', 'PUNCT')]\n"
          ]
        }
      ]
    },
    {
      "cell_type": "markdown",
      "metadata": {
        "id": "uXqwRIWhjVIL"
      },
      "source": [
        "Conforme os exemplos, ‘pos_’ retorna as etiquetas simples e ‘tag_’ as etiquetas complexas ou com maior grau de informação."
      ]
    },
    {
      "cell_type": "markdown",
      "metadata": {
        "id": "4IBqCG4CjYDa"
      },
      "source": [
        "## Dependências\n",
        "Para acessar dependências:"
      ]
    },
    {
      "cell_type": "code",
      "metadata": {
        "colab": {
          "base_uri": "https://localhost:8080/"
        },
        "id": "e2EAjwhJjbUy",
        "outputId": "0c4a3885-e677-40f4-838f-7bf04b775506"
      },
      "source": [
        "for sent in doc.sents:\n",
        "  print([(token.text,token.dep_) for token in sent])"
      ],
      "execution_count": 14,
      "outputs": [
        {
          "output_type": "stream",
          "name": "stdout",
          "text": [
            "[('Barack', 'nsubj'), ('Obama', 'flat:name'), ('foi', 'cop'), ('o', 'det'), ('primeiro', 'amod'), ('negro', 'ROOT'), ('a', 'mark'), ('ser', 'aux:pass'), ('eleito', 'acl'), ('presidente', 'nmod'), ('dos', 'case'), ('Estados', 'nmod'), ('Unidos', 'flat:name'), ('.', 'punct')]\n",
            "[('Em', 'case'), ('2008', 'obl'), (',', 'punct'), ('ele', 'nsubj'), ('derrotou', 'ROOT'), ('o', 'det'), ('candidato', 'obj'), ('do', 'case'), ('Partido', 'nmod'), ('Republicano', 'flat:name'), (',', 'punct'), ('John', 'appos'), ('McCain', 'flat:name'), (',', 'punct'), ('e', 'cc'), ('foi', 'aux:pass'), ('eleito', 'conj'), ('o', 'det'), ('44', 'nummod'), ('°', 'flat'), ('presidente', 'nsubj:pass'), ('do', 'case'), ('país', 'nmod'), ('.', 'punct')]\n",
            "[('Em', 'case'), ('2012', 'obl'), (',', 'punct'), ('Obama', 'nsubj:pass'), ('foi', 'aux:pass'), ('eleito', 'ROOT'), ('para', 'case'), ('um', 'det'), ('segundo', 'amod'), ('mandato', 'obl'), ('.', 'punct')]\n"
          ]
        }
      ]
    },
    {
      "cell_type": "markdown",
      "metadata": {
        "id": "G3fqtUlwjjsK"
      },
      "source": [
        "## Entidades nomeadas\n",
        "Para retornar as entidades nomeadas do texto, usamos a propriedade ‘ents’:"
      ]
    },
    {
      "cell_type": "code",
      "metadata": {
        "colab": {
          "base_uri": "https://localhost:8080/"
        },
        "id": "9LB-ofw6jpVy",
        "outputId": "c9379075-4eb5-42c7-c658-94363f5c865c"
      },
      "source": [
        "for ent in doc.ents:\n",
        "  print([ent.text, ent.label_])"
      ],
      "execution_count": 15,
      "outputs": [
        {
          "output_type": "stream",
          "name": "stdout",
          "text": [
            "['Barack Obama', 'PER']\n",
            "['Estados Unidos', 'LOC']\n",
            "['Partido Republicano', 'ORG']\n",
            "['John McCain', 'PER']\n",
            "['Obama', 'LOC']\n"
          ]
        }
      ]
    },
    {
      "cell_type": "markdown",
      "metadata": {
        "id": "igJoK3l4juva"
      },
      "source": [
        "## Stopwords\n",
        "Para retorna uma lista de stopwords do texto:"
      ]
    },
    {
      "cell_type": "code",
      "metadata": {
        "colab": {
          "base_uri": "https://localhost:8080/"
        },
        "id": "lBm_7-JsjzVz",
        "outputId": "d3f15ed5-67f6-42e2-e42d-7dd55597321b"
      },
      "source": [
        "stopwords = [token.text for token in doc if token.is_stop==True]\n",
        "print(stopwords)"
      ],
      "execution_count": 16,
      "outputs": [
        {
          "output_type": "stream",
          "name": "stdout",
          "text": [
            "['foi', 'o', 'primeiro', 'a', 'ser', 'dos', 'Em', 'ele', 'o', 'do', 'e', 'foi', 'o', 'do', 'Em', 'foi', 'para', 'um', 'segundo']\n"
          ]
        }
      ]
    },
    {
      "cell_type": "markdown",
      "metadata": {
        "id": "iEJBCJcnj2xU"
      },
      "source": [
        "Para complementar a lista e filtrar as palavras de conteúdo:"
      ]
    },
    {
      "cell_type": "code",
      "metadata": {
        "colab": {
          "base_uri": "https://localhost:8080/"
        },
        "id": "y56FFqruj5nT",
        "outputId": "ab6eb2fa-4fc8-4f51-9e0b-7071b7cc803b"
      },
      "source": [
        "from spacy.lang.pt.stop_words import STOP_WORDS as stop\n",
        "\n",
        "for w in ['o','a','e','Em','2008','2012','44','°',\",\"]:\n",
        "  stop.add(w)\n",
        "\n",
        "conteudo = [token.text for token in doc if token.text not in stop]\n",
        "\n",
        "print(conteudo)"
      ],
      "execution_count": 17,
      "outputs": [
        {
          "output_type": "stream",
          "name": "stdout",
          "text": [
            "['Barack', 'Obama', 'negro', 'eleito', 'presidente', 'Estados', 'Unidos', '.', 'derrotou', 'candidato', 'Partido', 'Republicano', 'John', 'McCain', 'eleito', 'presidente', 'país', '.', 'Obama', 'eleito', 'mandato', '.']\n"
          ]
        }
      ]
    }
  ]
}