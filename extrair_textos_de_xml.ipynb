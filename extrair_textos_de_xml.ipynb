{
  "nbformat": 4,
  "nbformat_minor": 0,
  "metadata": {
    "colab": {
      "name": "extrair_textos_de_xml.ipynb",
      "provenance": [],
      "collapsed_sections": [],
      "authorship_tag": "ABX9TyN2cn6WqYZ+HsGk2jXl00Aa",
      "include_colab_link": true
    },
    "kernelspec": {
      "name": "python3",
      "display_name": "Python 3"
    },
    "language_info": {
      "name": "python"
    }
  },
  "cells": [
    {
      "cell_type": "markdown",
      "metadata": {
        "id": "view-in-github",
        "colab_type": "text"
      },
      "source": [
        "<a href=\"https://colab.research.google.com/github/ilexistools/ebralc2021/blob/main/extrair_textos_de_xml.ipynb\" target=\"_parent\"><img src=\"https://colab.research.google.com/assets/colab-badge.svg\" alt=\"Open In Colab\"/></a>"
      ]
    },
    {
      "cell_type": "markdown",
      "metadata": {
        "id": "yW-WAtMvAlyO"
      },
      "source": [
        "# Extrair textos de arquivos XML\n",
        "\n",
        "O XML é um tipo de linguagem muito comum para estruturar e representar anotações em textos. As informações em arquivos XML são facilmente acessíveis, uma vez que a linguagem fornece uma padronização para a criação de arquivos."
      ]
    },
    {
      "cell_type": "markdown",
      "metadata": {
        "id": "JbnNtvbWArnG"
      },
      "source": [
        "#Recursos\n",
        "Para realizar o teste de utilização básica, precisamos carregar o arquivo:"
      ]
    },
    {
      "cell_type": "code",
      "metadata": {
        "id": "qaXcfG8cAucd"
      },
      "source": [
        "import requests \n",
        "\n",
        "url = 'https://github.com/ilexistools/ebralc2021/raw/main/recursos/texto.xml'\n",
        "response = requests.get(url)\n",
        "with open('texto.xml', 'wb') as f:\n",
        "    f.write(response.content)"
      ],
      "execution_count": 1,
      "outputs": []
    },
    {
      "cell_type": "markdown",
      "metadata": {
        "id": "-i7EBFGiBTqh"
      },
      "source": [
        "Vamos utilizar o seguinte código XML em arquivo (texto.xml) para demonstrar a extração de informações:"
      ]
    },
    {
      "cell_type": "code",
      "metadata": {
        "colab": {
          "base_uri": "https://localhost:8080/"
        },
        "id": "hKiFsWzKAkVq",
        "outputId": "52526274-ecb7-40aa-9250-b2ba78f3564e"
      },
      "source": [
        "with open('texto.xml','r', encoding='utf-8') as fh:\n",
        "  print(fh.read())"
      ],
      "execution_count": 2,
      "outputs": [
        {
          "output_type": "stream",
          "name": "stdout",
          "text": [
            "<?xml version=\"1.0\" encoding=\"UTF-8\" standalone=\"no\"?>\n",
            "<!DOCTYPE TEI.2 SYSTEM \"http://docsouth.unc.edu/dtds/teixlite.dtd\">\n",
            "<TEI.2>\n",
            "<teiHeader>\n",
            "   <fileDesc>\n",
            "       <titleStmt>\n",
            "           <title>LIVROS E FLORES</title>\n",
            "           <author>\n",
            "               <name>Machado de Assis</name>\n",
            "               <date>1870</date>\n",
            "           </author>\n",
            "           <respStmt>\n",
            "               <resp>Arquivo gerado por</resp>\n",
            "               <name>Pesquisador</name>\n",
            "           </respStmt>\n",
            "       </titleStmt>\n",
            "       <publicationStmt>\n",
            "           <publisher>B.-L. Garnier</publisher>\n",
            "\t\t   <pubPlace>Rio de Janeiro, RJ</pubPlace>\n",
            "       </publicationStmt>\n",
            "       <sourceDesc>\n",
            "           <biblStruct>\n",
            "               <monogr>\n",
            "\t\t\t\t\t<title>LIVROS E FLORES</title>\n",
            "                   <author>Machado de Assis</author>\n",
            "                   <imprint>\n",
            "                       <pubDate>1870</pubDate>\n",
            "                   </imprint>\n",
            "               </monogr>\n",
            "           </biblStruct>\n",
            "       </sourceDesc>\n",
            "   </fileDesc>\n",
            "</teiHeader>\n",
            "<text>\n",
            "   <body>\n",
            "<p>LIVROS E FLORES</p>\n",
            "<p>\n",
            "Teus olhos são meus livros.\n",
            "Que livro há aí melhor,\n",
            "Em que melhor se leia\n",
            "A página do amor?\n",
            "</p>\n",
            "<p>\n",
            "Flores me são teus lábios.\n",
            "Onde há mais bela flor,\n",
            "Em que melhor se beba\n",
            "O bálsamo do amor?\n",
            "</p>\n",
            "\t</body>\n",
            "</text>\n",
            "</TEI.2>\n"
          ]
        }
      ]
    },
    {
      "cell_type": "markdown",
      "metadata": {
        "id": "HfKS-6C2Bci1"
      },
      "source": [
        "Para realizar a leitura do arquivo, podemos utilizar o objeto ‘BeautifulSoup’:"
      ]
    },
    {
      "cell_type": "code",
      "metadata": {
        "id": "ZYzQCasgBgFG"
      },
      "source": [
        "from bs4 import BeautifulSoup\n",
        "with open('texto.xml', 'r', encoding='utf-8') as fh:\n",
        "  xml = BeautifulSoup(fh, 'lxml')"
      ],
      "execution_count": 3,
      "outputs": []
    },
    {
      "cell_type": "markdown",
      "metadata": {
        "id": "9ZZQxnxYBlrd"
      },
      "source": [
        "Agora, podemos extrair informações do cabeçalho da seguinte forma:"
      ]
    },
    {
      "cell_type": "code",
      "metadata": {
        "colab": {
          "base_uri": "https://localhost:8080/"
        },
        "id": "wb6ty0lOBqAG",
        "outputId": "12562c76-3e14-487c-8f70-9ef1087f99aa"
      },
      "source": [
        "# título do texto\n",
        "print(xml.teiheader.filedesc.titlestmt.title.text)\n",
        "\n",
        "# autor e data\n",
        "e = xml.teiheader.filedesc.titlestmt.find('author')\n",
        "print(e.find('name').text)\n",
        "print(e.find('date').text)\n",
        "\n",
        "# local de publicação\n",
        "e = xml.teiheader.filedesc.find('publicationstmt')\n",
        "print(e.find('pubplace').text)\n"
      ],
      "execution_count": 4,
      "outputs": [
        {
          "output_type": "stream",
          "name": "stdout",
          "text": [
            "LIVROS E FLORES\n",
            "Machado de Assis\n",
            "1870\n",
            "Rio de Janeiro, RJ\n"
          ]
        }
      ]
    },
    {
      "cell_type": "markdown",
      "metadata": {
        "id": "AfWiGUv1B0YV"
      },
      "source": [
        "Para acessar o conteúdo do texto, é possível utilizar o elemento ‘\\<p\\>’, acessando cada para individualmente:"
      ]
    },
    {
      "cell_type": "code",
      "metadata": {
        "colab": {
          "base_uri": "https://localhost:8080/"
        },
        "id": "KKbLMg1SB3i-",
        "outputId": "136a9f05-30b1-41b5-dcea-03233bfde1e7"
      },
      "source": [
        "for p in xml.body.find_all('p'):\n",
        "  print(p.text)"
      ],
      "execution_count": 5,
      "outputs": [
        {
          "output_type": "stream",
          "name": "stdout",
          "text": [
            "LIVROS E FLORES\n",
            "\n",
            "Teus olhos são meus livros.\n",
            "Que livro há aí melhor,\n",
            "Em que melhor se leia\n",
            "A página do amor?\n",
            "\n",
            "\n",
            "Flores me são teus lábios.\n",
            "Onde há mais bela flor,\n",
            "Em que melhor se beba\n",
            "O bálsamo do amor?\n",
            "\n"
          ]
        }
      ]
    }
  ]
}