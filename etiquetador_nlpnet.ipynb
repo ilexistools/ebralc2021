{
  "nbformat": 4,
  "nbformat_minor": 0,
  "metadata": {
    "colab": {
      "name": "etiquetador_nlpnet.ipynb",
      "provenance": [],
      "collapsed_sections": [],
      "mount_file_id": "1GL7WFopBKaAbvuTT70dwJ-PU09NCHXTO",
      "authorship_tag": "ABX9TyOVYPzDdW5oNpzjOmfH4o1T",
      "include_colab_link": true
    },
    "kernelspec": {
      "name": "python3",
      "display_name": "Python 3"
    },
    "language_info": {
      "name": "python"
    }
  },
  "cells": [
    {
      "cell_type": "markdown",
      "metadata": {
        "id": "view-in-github",
        "colab_type": "text"
      },
      "source": [
        "<a href=\"https://colab.research.google.com/github/ilexistools/ebralc2021/blob/main/etiquetador_nlpnet.ipynb\" target=\"_parent\"><img src=\"https://colab.research.google.com/assets/colab-badge.svg\" alt=\"Open In Colab\"/></a>"
      ]
    },
    {
      "cell_type": "markdown",
      "metadata": {
        "id": "mejkWR7GxysR"
      },
      "source": [
        "# **Etiquetador nlpnet**\n",
        "\n",
        "O etiquetador nlpnet alcança a acúracia de 97,33%.\n",
        "\n",
        "Sua documentação completa está disponível em:\n",
        "http://nilc.icmc.usp.br/nlpnet/index.html \n",
        "\n",
        "Vamos aprender a realizar a instalação e fazer o uso básico.\n"
      ]
    },
    {
      "cell_type": "markdown",
      "metadata": {
        "id": "RGLCelgNyuo4"
      },
      "source": [
        "## Instalação\n",
        "\n",
        "1. Instalar a biblioteca do nlpnet:"
      ]
    },
    {
      "cell_type": "code",
      "metadata": {
        "id": "NT6S0ST2Z8cz"
      },
      "source": [
        "!pip install nlpnet"
      ],
      "execution_count": null,
      "outputs": []
    },
    {
      "cell_type": "markdown",
      "metadata": {
        "id": "C5dFnRG3zcug"
      },
      "source": [
        "2. Importar o nltk e instalar o recurso 'punkt' do nltk:"
      ]
    },
    {
      "cell_type": "code",
      "metadata": {
        "id": "U2Oa5PmMwYBr"
      },
      "source": [
        "import nltk  \n",
        "\n",
        "try:\n",
        "  nltk.data.find('tokenizers/punkt')\n",
        "except LookupError:\n",
        "  nltk.download('punkt')"
      ],
      "execution_count": null,
      "outputs": []
    },
    {
      "cell_type": "markdown",
      "metadata": {
        "id": "PB4CAItvz_mL"
      },
      "source": [
        "3. Baixar o modelo treinado para o português:"
      ]
    },
    {
      "cell_type": "code",
      "metadata": {
        "id": "QVtsN3QIbdHl"
      },
      "source": [
        "import requests\n",
        "import tarfile\n",
        "\n",
        "url = 'http://nilc.icmc.usp.br/nlpnet/data/pos-pt.tgz'\n",
        "response = requests.get(url, stream=True)\n",
        "file = tarfile.open(fileobj=response.raw, mode=\"r|gz\")\n",
        "file.extractall(path=\".\")\n",
        "\n"
      ],
      "execution_count": null,
      "outputs": []
    },
    {
      "cell_type": "markdown",
      "metadata": {
        "id": "GIdDSpsy09uC"
      },
      "source": [
        "## Utilização básica\n",
        "\n",
        "Para testar o funcionamento do etiquetador, utilizamos o seguinte exemplo:\n"
      ]
    },
    {
      "cell_type": "code",
      "metadata": {
        "colab": {
          "base_uri": "https://localhost:8080/"
        },
        "id": "gjUn8f7oaSk2",
        "outputId": "53bb1434-3c16-4d62-86b3-7d89d3f0fe68"
      },
      "source": [
        "import nlpnet \n",
        "\n",
        "tagger = nlpnet.POSTagger('/content/pos-pt', language='pt')\n",
        "tagger.tag('O rato roeu a roupa do rei de Roma.')"
      ],
      "execution_count": null,
      "outputs": [
        {
          "output_type": "execute_result",
          "data": {
            "text/plain": [
              "[[('O', 'ART'),\n",
              "  ('rato', 'N'),\n",
              "  ('roeu', 'V'),\n",
              "  ('a', 'ART'),\n",
              "  ('roupa', 'N'),\n",
              "  ('do', 'PREP+ART'),\n",
              "  ('rei', 'N'),\n",
              "  ('de', 'PREP'),\n",
              "  ('Roma', 'NPROP'),\n",
              "  ('.', 'PU')]]"
            ]
          },
          "metadata": {},
          "execution_count": 17
        }
      ]
    },
    {
      "cell_type": "markdown",
      "metadata": {
        "id": "mTz8Py3m1tgp"
      },
      "source": [
        "No exemplo, podemos observar a etiquetagem de uma frase. A função 'tag()' itemiza e etiqueta o texto."
      ]
    },
    {
      "cell_type": "markdown",
      "metadata": {
        "id": "tLrKuTIb2ZQ3"
      },
      "source": [
        "# Etiquetar um corpus\n"
      ]
    },
    {
      "cell_type": "code",
      "metadata": {
        "id": "ROMFlclS_1Ee"
      },
      "source": [
        "import os \n",
        "import nltk \n",
        "import nlpnet \n",
        "\n",
        "# 1. Informe o caminho da pasta do corpus:\n",
        "corpus_folder = '/content/drive/MyDrive/CORPORA/noticias_pc/'\n",
        "\n",
        "# 2. Informe o caminho do pasta onde salvar os textos etiquetados:  \n",
        "save_folder = '/content/drive/MyDrive/CORPORA/_temp/'\n",
        "\n",
        "tagger = nlpnet.POSTagger('/content/pos-pt', language='pt')\n",
        "files = os.listdir(corpus_folder)\n",
        "for filename in files:\n",
        "  with open(corpus_folder + filename, 'r', encoding='utf-8') as fh:\n",
        "    content = fh.read()\n",
        "  sents = nltk.sent_tokenize(content,language='portuguese')\n",
        "  tagged_sents = []\n",
        "  for sent in sents:\n",
        "    tagged_sent = []\n",
        "    for token in tagger.tag(sent)[0]:\n",
        "      tagged_sent.append(nltk.tuple2str(token))\n",
        "    tagged_sents.append(' '.join(tagged_sent))\n",
        "  with open(save_folder + filename, 'w', encoding='utf-8') as fh:\n",
        "    fh.write('\\n'.join(tagged_sents))\n",
        "\n",
        "\n",
        "  \n",
        "\n",
        "\n",
        "\n",
        "\n"
      ],
      "execution_count": null,
      "outputs": []
    },
    {
      "cell_type": "markdown",
      "metadata": {
        "id": "Kriwg8fuwUZC"
      },
      "source": [
        "# Saiba mais...\n",
        "\n",
        "http://nilc.icmc.usp.br/nlpnet/index.html"
      ]
    }
  ]
}