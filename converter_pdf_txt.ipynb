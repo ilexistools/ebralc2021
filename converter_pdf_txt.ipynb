{
  "nbformat": 4,
  "nbformat_minor": 0,
  "metadata": {
    "colab": {
      "name": "converter_pdf_txt.ipynb",
      "provenance": [],
      "authorship_tag": "ABX9TyM/WMFn1fuQyRnw2Juoitem",
      "include_colab_link": true
    },
    "kernelspec": {
      "name": "python3",
      "display_name": "Python 3"
    },
    "language_info": {
      "name": "python"
    }
  },
  "cells": [
    {
      "cell_type": "markdown",
      "metadata": {
        "id": "view-in-github",
        "colab_type": "text"
      },
      "source": [
        "<a href=\"https://colab.research.google.com/github/ilexistools/ebralc2021/blob/main/converter_pdf_txt.ipynb\" target=\"_parent\"><img src=\"https://colab.research.google.com/assets/colab-badge.svg\" alt=\"Open In Colab\"/></a>"
      ]
    },
    {
      "cell_type": "markdown",
      "metadata": {
        "id": "jnBpLDJQ5Koe"
      },
      "source": [
        "# **Extrair textos de arquivos pdf**\n",
        "\n",
        "A extração de textos de arquivos PDF pode ser realizada por meio da utilização do módulo ‘PyPDF2’. A biblioteca fornece funções para extrair informações do arquivo (autor, assunto, título, número de páginas etc.), além de seu conteúdo.\n",
        "A instalação do módulo é feita da seguinte forma:\n"
      ]
    },
    {
      "cell_type": "code",
      "metadata": {
        "id": "P16-zbQh5CGH"
      },
      "source": [
        "!pip install pypdf2"
      ],
      "execution_count": null,
      "outputs": []
    },
    {
      "cell_type": "markdown",
      "metadata": {
        "id": "oCgOdpzr-Tsw"
      },
      "source": [
        "## Recursos\n",
        "\n",
        "Para realizar o teste de utilização básica, precisamos carregar o arquivo:"
      ]
    },
    {
      "cell_type": "code",
      "metadata": {
        "id": "f52VWd7M62lI"
      },
      "source": [
        "import requests \n",
        "\n",
        "url = 'https://github.com/ilexistools/ebralc2021/raw/main/recursos/arquivo.pdf'\n",
        "response = requests.get(url)\n",
        "with open('arquivo.pdf', 'wb') as f:\n",
        "    f.write(response.content)"
      ],
      "execution_count": 5,
      "outputs": []
    },
    {
      "cell_type": "markdown",
      "metadata": {
        "id": "mLhasNzF5Yre"
      },
      "source": [
        "## Utilização básica\n",
        "\n",
        "O processo de utilização básica de extração de textos é realizado da seguinte forma:"
      ]
    },
    {
      "cell_type": "code",
      "metadata": {
        "id": "0c726F6e5gyq",
        "colab": {
          "base_uri": "https://localhost:8080/"
        },
        "outputId": "d3009e3c-5fa3-4ca8-aee1-fcd6d32d19a7"
      },
      "source": [
        "import PyPDF2 as pdf\n",
        "\n",
        "arquivo_pdf = open('arquivo.pdf','rb')\n",
        "leitor = pdf.PdfFileReader(arquivo_pdf)\n",
        "total_paginas = leitor.numPages\n",
        "s = []\n",
        "for i in range(0,total_paginas):\n",
        "  pagina = leitor.getPage(i)\n",
        "  texto = pagina.extractText()\n",
        "  s.append(texto)\n",
        "linhas = [l for l in ''.join(s).split('\\n') if len(l.strip())!=0]\n",
        "print(linhas[0:5])"
      ],
      "execution_count": 7,
      "outputs": [
        {
          "output_type": "stream",
          "name": "stdout",
          "text": [
            "['Hino Nacional Brasileiro', 'Ouviram do Ipiranga as margens plácidas', 'De um povo heroico o brado retumbante', 'E o sol da liberdade, em raios fúlgidos', 'Brilhou no céu da pátria nesse instante']\n"
          ]
        }
      ]
    },
    {
      "cell_type": "markdown",
      "metadata": {
        "id": "SzpfE9xc_XN_"
      },
      "source": [
        "## Saiba mais...\n",
        "\n",
        "MOREIRA FILHO, J. L. Python para Linguística de Corpus: guia prático. 1.ed. São Paulo: [s.n.], 2021."
      ]
    }
  ]
}